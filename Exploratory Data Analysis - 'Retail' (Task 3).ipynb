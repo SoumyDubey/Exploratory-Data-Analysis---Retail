{
 "cells": [
  {
   "cell_type": "markdown",
   "metadata": {},
   "source": [
    "# Exploratory Data Analysis - Retail"
   ]
  },
  {
   "cell_type": "markdown",
   "metadata": {},
   "source": [
    "# Task 3\n",
    "Perform ‘Exploratory Data Analysis’ on dataset ‘SampleSuperstore’"
   ]
  },
  {
   "cell_type": "markdown",
   "metadata": {},
   "source": [
    "# 1. Problem\n",
    "As a business manager, try to find out the weak areas where you can work to make more profit."
   ]
  },
  {
   "cell_type": "markdown",
   "metadata": {},
   "source": [
    "# Answer \n",
    "After performing Exploratory Data Analysis on SampleSuperstore dataset it looks like the Furniture category has more sales than other categories but has the lowest profit margins. Furniture category marginal profit is the area where more work is required."
   ]
  },
  {
   "cell_type": "markdown",
   "metadata": {},
   "source": [
    "# 2. Problem\n",
    "What all business problems you can derive by exploring the data?"
   ]
  },
  {
   "cell_type": "markdown",
   "metadata": {},
   "source": [
    "# Answer\n",
    "1. Why Furniture category have lowest profit? (Due to Second class Shipping mode.)\n",
    "2. Segment has more sales? (Consumer has more sales than other.)"
   ]
  },
  {
   "cell_type": "markdown",
   "metadata": {},
   "source": [
    "Task completed during Data Science & Analytics Internship @ The Sparks Foundation\n",
    "\n"
   ]
  },
  {
   "cell_type": "markdown",
   "metadata": {},
   "source": [
    "By- Soumy Dubey"
   ]
  },
  {
   "cell_type": "markdown",
   "metadata": {},
   "source": [
    "# Importing Libraries"
   ]
  },
  {
   "cell_type": "code",
   "execution_count": 98,
   "metadata": {},
   "outputs": [],
   "source": [
    "import os\n",
    "import csv\n",
    "import pandas as pd\n",
    "import numpy as np\n",
    "import matplotlib.pyplot as plt\n",
    "import seaborn as sns"
   ]
  },
  {
   "cell_type": "markdown",
   "metadata": {},
   "source": [
    "# Uploading Data"
   ]
  },
  {
   "cell_type": "code",
   "execution_count": 100,
   "metadata": {},
   "outputs": [
    {
     "data": {
      "text/html": [
       "<div>\n",
       "<style scoped>\n",
       "    .dataframe tbody tr th:only-of-type {\n",
       "        vertical-align: middle;\n",
       "    }\n",
       "\n",
       "    .dataframe tbody tr th {\n",
       "        vertical-align: top;\n",
       "    }\n",
       "\n",
       "    .dataframe thead th {\n",
       "        text-align: right;\n",
       "    }\n",
       "</style>\n",
       "<table border=\"1\" class=\"dataframe\">\n",
       "  <thead>\n",
       "    <tr style=\"text-align: right;\">\n",
       "      <th></th>\n",
       "      <th>Ship Mode</th>\n",
       "      <th>Segment</th>\n",
       "      <th>Country</th>\n",
       "      <th>City</th>\n",
       "      <th>State</th>\n",
       "      <th>Postal Code</th>\n",
       "      <th>Region</th>\n",
       "      <th>Category</th>\n",
       "      <th>Sub-Category</th>\n",
       "      <th>Sales</th>\n",
       "      <th>Quantity</th>\n",
       "      <th>Discount</th>\n",
       "      <th>Profit</th>\n",
       "    </tr>\n",
       "  </thead>\n",
       "  <tbody>\n",
       "    <tr>\n",
       "      <th>0</th>\n",
       "      <td>Second Class</td>\n",
       "      <td>Consumer</td>\n",
       "      <td>United States</td>\n",
       "      <td>Henderson</td>\n",
       "      <td>Kentucky</td>\n",
       "      <td>42420</td>\n",
       "      <td>South</td>\n",
       "      <td>Furniture</td>\n",
       "      <td>Bookcases</td>\n",
       "      <td>261.9600</td>\n",
       "      <td>2</td>\n",
       "      <td>0.00</td>\n",
       "      <td>41.9136</td>\n",
       "    </tr>\n",
       "    <tr>\n",
       "      <th>1</th>\n",
       "      <td>Second Class</td>\n",
       "      <td>Consumer</td>\n",
       "      <td>United States</td>\n",
       "      <td>Henderson</td>\n",
       "      <td>Kentucky</td>\n",
       "      <td>42420</td>\n",
       "      <td>South</td>\n",
       "      <td>Furniture</td>\n",
       "      <td>Chairs</td>\n",
       "      <td>731.9400</td>\n",
       "      <td>3</td>\n",
       "      <td>0.00</td>\n",
       "      <td>219.5820</td>\n",
       "    </tr>\n",
       "    <tr>\n",
       "      <th>2</th>\n",
       "      <td>Second Class</td>\n",
       "      <td>Corporate</td>\n",
       "      <td>United States</td>\n",
       "      <td>Los Angeles</td>\n",
       "      <td>California</td>\n",
       "      <td>90036</td>\n",
       "      <td>West</td>\n",
       "      <td>Office Supplies</td>\n",
       "      <td>Labels</td>\n",
       "      <td>14.6200</td>\n",
       "      <td>2</td>\n",
       "      <td>0.00</td>\n",
       "      <td>6.8714</td>\n",
       "    </tr>\n",
       "    <tr>\n",
       "      <th>3</th>\n",
       "      <td>Standard Class</td>\n",
       "      <td>Consumer</td>\n",
       "      <td>United States</td>\n",
       "      <td>Fort Lauderdale</td>\n",
       "      <td>Florida</td>\n",
       "      <td>33311</td>\n",
       "      <td>South</td>\n",
       "      <td>Furniture</td>\n",
       "      <td>Tables</td>\n",
       "      <td>957.5775</td>\n",
       "      <td>5</td>\n",
       "      <td>0.45</td>\n",
       "      <td>-383.0310</td>\n",
       "    </tr>\n",
       "    <tr>\n",
       "      <th>4</th>\n",
       "      <td>Standard Class</td>\n",
       "      <td>Consumer</td>\n",
       "      <td>United States</td>\n",
       "      <td>Fort Lauderdale</td>\n",
       "      <td>Florida</td>\n",
       "      <td>33311</td>\n",
       "      <td>South</td>\n",
       "      <td>Office Supplies</td>\n",
       "      <td>Storage</td>\n",
       "      <td>22.3680</td>\n",
       "      <td>2</td>\n",
       "      <td>0.20</td>\n",
       "      <td>2.5164</td>\n",
       "    </tr>\n",
       "    <tr>\n",
       "      <th>...</th>\n",
       "      <td>...</td>\n",
       "      <td>...</td>\n",
       "      <td>...</td>\n",
       "      <td>...</td>\n",
       "      <td>...</td>\n",
       "      <td>...</td>\n",
       "      <td>...</td>\n",
       "      <td>...</td>\n",
       "      <td>...</td>\n",
       "      <td>...</td>\n",
       "      <td>...</td>\n",
       "      <td>...</td>\n",
       "      <td>...</td>\n",
       "    </tr>\n",
       "    <tr>\n",
       "      <th>9989</th>\n",
       "      <td>Second Class</td>\n",
       "      <td>Consumer</td>\n",
       "      <td>United States</td>\n",
       "      <td>Miami</td>\n",
       "      <td>Florida</td>\n",
       "      <td>33180</td>\n",
       "      <td>South</td>\n",
       "      <td>Furniture</td>\n",
       "      <td>Furnishings</td>\n",
       "      <td>25.2480</td>\n",
       "      <td>3</td>\n",
       "      <td>0.20</td>\n",
       "      <td>4.1028</td>\n",
       "    </tr>\n",
       "    <tr>\n",
       "      <th>9990</th>\n",
       "      <td>Standard Class</td>\n",
       "      <td>Consumer</td>\n",
       "      <td>United States</td>\n",
       "      <td>Costa Mesa</td>\n",
       "      <td>California</td>\n",
       "      <td>92627</td>\n",
       "      <td>West</td>\n",
       "      <td>Furniture</td>\n",
       "      <td>Furnishings</td>\n",
       "      <td>91.9600</td>\n",
       "      <td>2</td>\n",
       "      <td>0.00</td>\n",
       "      <td>15.6332</td>\n",
       "    </tr>\n",
       "    <tr>\n",
       "      <th>9991</th>\n",
       "      <td>Standard Class</td>\n",
       "      <td>Consumer</td>\n",
       "      <td>United States</td>\n",
       "      <td>Costa Mesa</td>\n",
       "      <td>California</td>\n",
       "      <td>92627</td>\n",
       "      <td>West</td>\n",
       "      <td>Technology</td>\n",
       "      <td>Phones</td>\n",
       "      <td>258.5760</td>\n",
       "      <td>2</td>\n",
       "      <td>0.20</td>\n",
       "      <td>19.3932</td>\n",
       "    </tr>\n",
       "    <tr>\n",
       "      <th>9992</th>\n",
       "      <td>Standard Class</td>\n",
       "      <td>Consumer</td>\n",
       "      <td>United States</td>\n",
       "      <td>Costa Mesa</td>\n",
       "      <td>California</td>\n",
       "      <td>92627</td>\n",
       "      <td>West</td>\n",
       "      <td>Office Supplies</td>\n",
       "      <td>Paper</td>\n",
       "      <td>29.6000</td>\n",
       "      <td>4</td>\n",
       "      <td>0.00</td>\n",
       "      <td>13.3200</td>\n",
       "    </tr>\n",
       "    <tr>\n",
       "      <th>9993</th>\n",
       "      <td>Second Class</td>\n",
       "      <td>Consumer</td>\n",
       "      <td>United States</td>\n",
       "      <td>Westminster</td>\n",
       "      <td>California</td>\n",
       "      <td>92683</td>\n",
       "      <td>West</td>\n",
       "      <td>Office Supplies</td>\n",
       "      <td>Appliances</td>\n",
       "      <td>243.1600</td>\n",
       "      <td>2</td>\n",
       "      <td>0.00</td>\n",
       "      <td>72.9480</td>\n",
       "    </tr>\n",
       "  </tbody>\n",
       "</table>\n",
       "<p>9994 rows × 13 columns</p>\n",
       "</div>"
      ],
      "text/plain": [
       "           Ship Mode    Segment        Country             City       State  \\\n",
       "0       Second Class   Consumer  United States        Henderson    Kentucky   \n",
       "1       Second Class   Consumer  United States        Henderson    Kentucky   \n",
       "2       Second Class  Corporate  United States      Los Angeles  California   \n",
       "3     Standard Class   Consumer  United States  Fort Lauderdale     Florida   \n",
       "4     Standard Class   Consumer  United States  Fort Lauderdale     Florida   \n",
       "...              ...        ...            ...              ...         ...   \n",
       "9989    Second Class   Consumer  United States            Miami     Florida   \n",
       "9990  Standard Class   Consumer  United States       Costa Mesa  California   \n",
       "9991  Standard Class   Consumer  United States       Costa Mesa  California   \n",
       "9992  Standard Class   Consumer  United States       Costa Mesa  California   \n",
       "9993    Second Class   Consumer  United States      Westminster  California   \n",
       "\n",
       "      Postal Code Region         Category Sub-Category     Sales  Quantity  \\\n",
       "0           42420  South        Furniture    Bookcases  261.9600         2   \n",
       "1           42420  South        Furniture       Chairs  731.9400         3   \n",
       "2           90036   West  Office Supplies       Labels   14.6200         2   \n",
       "3           33311  South        Furniture       Tables  957.5775         5   \n",
       "4           33311  South  Office Supplies      Storage   22.3680         2   \n",
       "...           ...    ...              ...          ...       ...       ...   \n",
       "9989        33180  South        Furniture  Furnishings   25.2480         3   \n",
       "9990        92627   West        Furniture  Furnishings   91.9600         2   \n",
       "9991        92627   West       Technology       Phones  258.5760         2   \n",
       "9992        92627   West  Office Supplies        Paper   29.6000         4   \n",
       "9993        92683   West  Office Supplies   Appliances  243.1600         2   \n",
       "\n",
       "      Discount    Profit  \n",
       "0         0.00   41.9136  \n",
       "1         0.00  219.5820  \n",
       "2         0.00    6.8714  \n",
       "3         0.45 -383.0310  \n",
       "4         0.20    2.5164  \n",
       "...        ...       ...  \n",
       "9989      0.20    4.1028  \n",
       "9990      0.00   15.6332  \n",
       "9991      0.20   19.3932  \n",
       "9992      0.00   13.3200  \n",
       "9993      0.00   72.9480  \n",
       "\n",
       "[9994 rows x 13 columns]"
      ]
     },
     "execution_count": 100,
     "metadata": {},
     "output_type": "execute_result"
    }
   ],
   "source": [
    "file = r'E:\\Python_Data_Visulisation\\SampleSuperstore.csv'\n",
    "\n",
    "data = pd.read_csv(file)\n",
    "\n",
    "data"
   ]
  },
  {
   "cell_type": "code",
   "execution_count": 101,
   "metadata": {},
   "outputs": [
    {
     "name": "stdout",
     "output_type": "stream",
     "text": [
      "Shape of the data\n"
     ]
    },
    {
     "data": {
      "text/plain": [
       "(9994, 13)"
      ]
     },
     "execution_count": 101,
     "metadata": {},
     "output_type": "execute_result"
    }
   ],
   "source": [
    "print('Shape of the data')\n",
    "data.shape"
   ]
  },
  {
   "cell_type": "code",
   "execution_count": 103,
   "metadata": {},
   "outputs": [
    {
     "name": "stdout",
     "output_type": "stream",
     "text": [
      "Data Describtion\n"
     ]
    },
    {
     "data": {
      "text/html": [
       "<div>\n",
       "<style scoped>\n",
       "    .dataframe tbody tr th:only-of-type {\n",
       "        vertical-align: middle;\n",
       "    }\n",
       "\n",
       "    .dataframe tbody tr th {\n",
       "        vertical-align: top;\n",
       "    }\n",
       "\n",
       "    .dataframe thead th {\n",
       "        text-align: right;\n",
       "    }\n",
       "</style>\n",
       "<table border=\"1\" class=\"dataframe\">\n",
       "  <thead>\n",
       "    <tr style=\"text-align: right;\">\n",
       "      <th></th>\n",
       "      <th>Postal Code</th>\n",
       "      <th>Sales</th>\n",
       "      <th>Quantity</th>\n",
       "      <th>Discount</th>\n",
       "      <th>Profit</th>\n",
       "    </tr>\n",
       "  </thead>\n",
       "  <tbody>\n",
       "    <tr>\n",
       "      <th>count</th>\n",
       "      <td>9994.000000</td>\n",
       "      <td>9994.000000</td>\n",
       "      <td>9994.000000</td>\n",
       "      <td>9994.000000</td>\n",
       "      <td>9994.000000</td>\n",
       "    </tr>\n",
       "    <tr>\n",
       "      <th>mean</th>\n",
       "      <td>55190.379428</td>\n",
       "      <td>229.858001</td>\n",
       "      <td>3.789574</td>\n",
       "      <td>0.156203</td>\n",
       "      <td>28.656896</td>\n",
       "    </tr>\n",
       "    <tr>\n",
       "      <th>std</th>\n",
       "      <td>32063.693350</td>\n",
       "      <td>623.245101</td>\n",
       "      <td>2.225110</td>\n",
       "      <td>0.206452</td>\n",
       "      <td>234.260108</td>\n",
       "    </tr>\n",
       "    <tr>\n",
       "      <th>min</th>\n",
       "      <td>1040.000000</td>\n",
       "      <td>0.444000</td>\n",
       "      <td>1.000000</td>\n",
       "      <td>0.000000</td>\n",
       "      <td>-6599.978000</td>\n",
       "    </tr>\n",
       "    <tr>\n",
       "      <th>25%</th>\n",
       "      <td>23223.000000</td>\n",
       "      <td>17.280000</td>\n",
       "      <td>2.000000</td>\n",
       "      <td>0.000000</td>\n",
       "      <td>1.728750</td>\n",
       "    </tr>\n",
       "    <tr>\n",
       "      <th>50%</th>\n",
       "      <td>56430.500000</td>\n",
       "      <td>54.490000</td>\n",
       "      <td>3.000000</td>\n",
       "      <td>0.200000</td>\n",
       "      <td>8.666500</td>\n",
       "    </tr>\n",
       "    <tr>\n",
       "      <th>75%</th>\n",
       "      <td>90008.000000</td>\n",
       "      <td>209.940000</td>\n",
       "      <td>5.000000</td>\n",
       "      <td>0.200000</td>\n",
       "      <td>29.364000</td>\n",
       "    </tr>\n",
       "    <tr>\n",
       "      <th>max</th>\n",
       "      <td>99301.000000</td>\n",
       "      <td>22638.480000</td>\n",
       "      <td>14.000000</td>\n",
       "      <td>0.800000</td>\n",
       "      <td>8399.976000</td>\n",
       "    </tr>\n",
       "  </tbody>\n",
       "</table>\n",
       "</div>"
      ],
      "text/plain": [
       "        Postal Code         Sales     Quantity     Discount       Profit\n",
       "count   9994.000000   9994.000000  9994.000000  9994.000000  9994.000000\n",
       "mean   55190.379428    229.858001     3.789574     0.156203    28.656896\n",
       "std    32063.693350    623.245101     2.225110     0.206452   234.260108\n",
       "min     1040.000000      0.444000     1.000000     0.000000 -6599.978000\n",
       "25%    23223.000000     17.280000     2.000000     0.000000     1.728750\n",
       "50%    56430.500000     54.490000     3.000000     0.200000     8.666500\n",
       "75%    90008.000000    209.940000     5.000000     0.200000    29.364000\n",
       "max    99301.000000  22638.480000    14.000000     0.800000  8399.976000"
      ]
     },
     "execution_count": 103,
     "metadata": {},
     "output_type": "execute_result"
    }
   ],
   "source": [
    "print('Data Describtion')\n",
    "data.describe()"
   ]
  },
  {
   "cell_type": "markdown",
   "metadata": {},
   "source": [
    "# Exploratory Data Analysis"
   ]
  },
  {
   "cell_type": "markdown",
   "metadata": {},
   "source": [
    "Null Values"
   ]
  },
  {
   "cell_type": "code",
   "execution_count": 104,
   "metadata": {},
   "outputs": [
    {
     "data": {
      "text/html": [
       "<div>\n",
       "<style scoped>\n",
       "    .dataframe tbody tr th:only-of-type {\n",
       "        vertical-align: middle;\n",
       "    }\n",
       "\n",
       "    .dataframe tbody tr th {\n",
       "        vertical-align: top;\n",
       "    }\n",
       "\n",
       "    .dataframe thead th {\n",
       "        text-align: right;\n",
       "    }\n",
       "</style>\n",
       "<table border=\"1\" class=\"dataframe\">\n",
       "  <thead>\n",
       "    <tr style=\"text-align: right;\">\n",
       "      <th></th>\n",
       "      <th>Ship Mode</th>\n",
       "      <th>Segment</th>\n",
       "      <th>Country</th>\n",
       "      <th>City</th>\n",
       "      <th>State</th>\n",
       "      <th>Postal Code</th>\n",
       "      <th>Region</th>\n",
       "      <th>Category</th>\n",
       "      <th>Sub-Category</th>\n",
       "      <th>Sales</th>\n",
       "      <th>Quantity</th>\n",
       "      <th>Discount</th>\n",
       "      <th>Profit</th>\n",
       "    </tr>\n",
       "  </thead>\n",
       "  <tbody>\n",
       "    <tr>\n",
       "      <th>0</th>\n",
       "      <td>False</td>\n",
       "      <td>False</td>\n",
       "      <td>False</td>\n",
       "      <td>False</td>\n",
       "      <td>False</td>\n",
       "      <td>False</td>\n",
       "      <td>False</td>\n",
       "      <td>False</td>\n",
       "      <td>False</td>\n",
       "      <td>False</td>\n",
       "      <td>False</td>\n",
       "      <td>False</td>\n",
       "      <td>False</td>\n",
       "    </tr>\n",
       "    <tr>\n",
       "      <th>1</th>\n",
       "      <td>False</td>\n",
       "      <td>False</td>\n",
       "      <td>False</td>\n",
       "      <td>False</td>\n",
       "      <td>False</td>\n",
       "      <td>False</td>\n",
       "      <td>False</td>\n",
       "      <td>False</td>\n",
       "      <td>False</td>\n",
       "      <td>False</td>\n",
       "      <td>False</td>\n",
       "      <td>False</td>\n",
       "      <td>False</td>\n",
       "    </tr>\n",
       "    <tr>\n",
       "      <th>2</th>\n",
       "      <td>False</td>\n",
       "      <td>False</td>\n",
       "      <td>False</td>\n",
       "      <td>False</td>\n",
       "      <td>False</td>\n",
       "      <td>False</td>\n",
       "      <td>False</td>\n",
       "      <td>False</td>\n",
       "      <td>False</td>\n",
       "      <td>False</td>\n",
       "      <td>False</td>\n",
       "      <td>False</td>\n",
       "      <td>False</td>\n",
       "    </tr>\n",
       "    <tr>\n",
       "      <th>3</th>\n",
       "      <td>False</td>\n",
       "      <td>False</td>\n",
       "      <td>False</td>\n",
       "      <td>False</td>\n",
       "      <td>False</td>\n",
       "      <td>False</td>\n",
       "      <td>False</td>\n",
       "      <td>False</td>\n",
       "      <td>False</td>\n",
       "      <td>False</td>\n",
       "      <td>False</td>\n",
       "      <td>False</td>\n",
       "      <td>False</td>\n",
       "    </tr>\n",
       "    <tr>\n",
       "      <th>4</th>\n",
       "      <td>False</td>\n",
       "      <td>False</td>\n",
       "      <td>False</td>\n",
       "      <td>False</td>\n",
       "      <td>False</td>\n",
       "      <td>False</td>\n",
       "      <td>False</td>\n",
       "      <td>False</td>\n",
       "      <td>False</td>\n",
       "      <td>False</td>\n",
       "      <td>False</td>\n",
       "      <td>False</td>\n",
       "      <td>False</td>\n",
       "    </tr>\n",
       "    <tr>\n",
       "      <th>...</th>\n",
       "      <td>...</td>\n",
       "      <td>...</td>\n",
       "      <td>...</td>\n",
       "      <td>...</td>\n",
       "      <td>...</td>\n",
       "      <td>...</td>\n",
       "      <td>...</td>\n",
       "      <td>...</td>\n",
       "      <td>...</td>\n",
       "      <td>...</td>\n",
       "      <td>...</td>\n",
       "      <td>...</td>\n",
       "      <td>...</td>\n",
       "    </tr>\n",
       "    <tr>\n",
       "      <th>9989</th>\n",
       "      <td>False</td>\n",
       "      <td>False</td>\n",
       "      <td>False</td>\n",
       "      <td>False</td>\n",
       "      <td>False</td>\n",
       "      <td>False</td>\n",
       "      <td>False</td>\n",
       "      <td>False</td>\n",
       "      <td>False</td>\n",
       "      <td>False</td>\n",
       "      <td>False</td>\n",
       "      <td>False</td>\n",
       "      <td>False</td>\n",
       "    </tr>\n",
       "    <tr>\n",
       "      <th>9990</th>\n",
       "      <td>False</td>\n",
       "      <td>False</td>\n",
       "      <td>False</td>\n",
       "      <td>False</td>\n",
       "      <td>False</td>\n",
       "      <td>False</td>\n",
       "      <td>False</td>\n",
       "      <td>False</td>\n",
       "      <td>False</td>\n",
       "      <td>False</td>\n",
       "      <td>False</td>\n",
       "      <td>False</td>\n",
       "      <td>False</td>\n",
       "    </tr>\n",
       "    <tr>\n",
       "      <th>9991</th>\n",
       "      <td>False</td>\n",
       "      <td>False</td>\n",
       "      <td>False</td>\n",
       "      <td>False</td>\n",
       "      <td>False</td>\n",
       "      <td>False</td>\n",
       "      <td>False</td>\n",
       "      <td>False</td>\n",
       "      <td>False</td>\n",
       "      <td>False</td>\n",
       "      <td>False</td>\n",
       "      <td>False</td>\n",
       "      <td>False</td>\n",
       "    </tr>\n",
       "    <tr>\n",
       "      <th>9992</th>\n",
       "      <td>False</td>\n",
       "      <td>False</td>\n",
       "      <td>False</td>\n",
       "      <td>False</td>\n",
       "      <td>False</td>\n",
       "      <td>False</td>\n",
       "      <td>False</td>\n",
       "      <td>False</td>\n",
       "      <td>False</td>\n",
       "      <td>False</td>\n",
       "      <td>False</td>\n",
       "      <td>False</td>\n",
       "      <td>False</td>\n",
       "    </tr>\n",
       "    <tr>\n",
       "      <th>9993</th>\n",
       "      <td>False</td>\n",
       "      <td>False</td>\n",
       "      <td>False</td>\n",
       "      <td>False</td>\n",
       "      <td>False</td>\n",
       "      <td>False</td>\n",
       "      <td>False</td>\n",
       "      <td>False</td>\n",
       "      <td>False</td>\n",
       "      <td>False</td>\n",
       "      <td>False</td>\n",
       "      <td>False</td>\n",
       "      <td>False</td>\n",
       "    </tr>\n",
       "  </tbody>\n",
       "</table>\n",
       "<p>9994 rows × 13 columns</p>\n",
       "</div>"
      ],
      "text/plain": [
       "      Ship Mode  Segment  Country   City  State  Postal Code  Region  \\\n",
       "0         False    False    False  False  False        False   False   \n",
       "1         False    False    False  False  False        False   False   \n",
       "2         False    False    False  False  False        False   False   \n",
       "3         False    False    False  False  False        False   False   \n",
       "4         False    False    False  False  False        False   False   \n",
       "...         ...      ...      ...    ...    ...          ...     ...   \n",
       "9989      False    False    False  False  False        False   False   \n",
       "9990      False    False    False  False  False        False   False   \n",
       "9991      False    False    False  False  False        False   False   \n",
       "9992      False    False    False  False  False        False   False   \n",
       "9993      False    False    False  False  False        False   False   \n",
       "\n",
       "      Category  Sub-Category  Sales  Quantity  Discount  Profit  \n",
       "0        False         False  False     False     False   False  \n",
       "1        False         False  False     False     False   False  \n",
       "2        False         False  False     False     False   False  \n",
       "3        False         False  False     False     False   False  \n",
       "4        False         False  False     False     False   False  \n",
       "...        ...           ...    ...       ...       ...     ...  \n",
       "9989     False         False  False     False     False   False  \n",
       "9990     False         False  False     False     False   False  \n",
       "9991     False         False  False     False     False   False  \n",
       "9992     False         False  False     False     False   False  \n",
       "9993     False         False  False     False     False   False  \n",
       "\n",
       "[9994 rows x 13 columns]"
      ]
     },
     "execution_count": 104,
     "metadata": {},
     "output_type": "execute_result"
    }
   ],
   "source": [
    "null_values = data.isnull()\n",
    "null_values"
   ]
  },
  {
   "cell_type": "code",
   "execution_count": 105,
   "metadata": {},
   "outputs": [
    {
     "name": "stdout",
     "output_type": "stream",
     "text": [
      "Ship Mode       0\n",
      "Segment         0\n",
      "Country         0\n",
      "City            0\n",
      "State           0\n",
      "Postal Code     0\n",
      "Region          0\n",
      "Category        0\n",
      "Sub-Category    0\n",
      "Sales           0\n",
      "Quantity        0\n",
      "Discount        0\n",
      "Profit          0\n",
      "dtype: int64 Zero Null Values\n"
     ]
    }
   ],
   "source": [
    "sum_null = null_values.sum()\n",
    "print(sum_null, 'Zero Null Values')"
   ]
  },
  {
   "cell_type": "markdown",
   "metadata": {},
   "source": [
    "Unique Categories and sub_categories"
   ]
  },
  {
   "cell_type": "code",
   "execution_count": 106,
   "metadata": {},
   "outputs": [
    {
     "data": {
      "text/plain": [
       "array(['Furniture', 'Office Supplies', 'Technology'], dtype=object)"
      ]
     },
     "execution_count": 106,
     "metadata": {},
     "output_type": "execute_result"
    }
   ],
   "source": [
    "Categories = data.Category.unique()\n",
    "Categories"
   ]
  },
  {
   "cell_type": "code",
   "execution_count": 107,
   "metadata": {},
   "outputs": [
    {
     "data": {
      "text/plain": [
       "array(['Bookcases', 'Chairs', 'Labels', 'Tables', 'Storage',\n",
       "       'Furnishings', 'Art', 'Phones', 'Binders', 'Appliances', 'Paper',\n",
       "       'Accessories', 'Envelopes', 'Fasteners', 'Supplies', 'Machines',\n",
       "       'Copiers'], dtype=object)"
      ]
     },
     "execution_count": 107,
     "metadata": {},
     "output_type": "execute_result"
    }
   ],
   "source": [
    "sub_categories = data['Sub-Category'].unique()\n",
    "sub_categories"
   ]
  },
  {
   "cell_type": "markdown",
   "metadata": {},
   "source": [
    "# Sales Analysis for Categories and Sub-Categories"
   ]
  },
  {
   "cell_type": "code",
   "execution_count": 108,
   "metadata": {},
   "outputs": [
    {
     "data": {
      "text/html": [
       "<div>\n",
       "<style scoped>\n",
       "    .dataframe tbody tr th:only-of-type {\n",
       "        vertical-align: middle;\n",
       "    }\n",
       "\n",
       "    .dataframe tbody tr th {\n",
       "        vertical-align: top;\n",
       "    }\n",
       "\n",
       "    .dataframe thead th {\n",
       "        text-align: right;\n",
       "    }\n",
       "</style>\n",
       "<table border=\"1\" class=\"dataframe\">\n",
       "  <thead>\n",
       "    <tr style=\"text-align: right;\">\n",
       "      <th></th>\n",
       "      <th>Category</th>\n",
       "      <th>Postal Code</th>\n",
       "      <th>Sales</th>\n",
       "      <th>Quantity</th>\n",
       "      <th>Discount</th>\n",
       "      <th>Profit</th>\n",
       "      <th>Sale%</th>\n",
       "      <th>Profit%</th>\n",
       "    </tr>\n",
       "  </thead>\n",
       "  <tbody>\n",
       "    <tr>\n",
       "      <th>0</th>\n",
       "      <td>Furniture</td>\n",
       "      <td>118196026</td>\n",
       "      <td>741999.7953</td>\n",
       "      <td>8028</td>\n",
       "      <td>368.89</td>\n",
       "      <td>18451.2728</td>\n",
       "      <td>NaN</td>\n",
       "      <td>6.442551</td>\n",
       "    </tr>\n",
       "    <tr>\n",
       "      <th>1</th>\n",
       "      <td>Office Supplies</td>\n",
       "      <td>330772872</td>\n",
       "      <td>719047.0320</td>\n",
       "      <td>22906</td>\n",
       "      <td>947.80</td>\n",
       "      <td>122490.8008</td>\n",
       "      <td>NaN</td>\n",
       "      <td>42.769579</td>\n",
       "    </tr>\n",
       "    <tr>\n",
       "      <th>2</th>\n",
       "      <td>Technology</td>\n",
       "      <td>102603754</td>\n",
       "      <td>836154.0330</td>\n",
       "      <td>6939</td>\n",
       "      <td>244.40</td>\n",
       "      <td>145454.9481</td>\n",
       "      <td>NaN</td>\n",
       "      <td>50.787870</td>\n",
       "    </tr>\n",
       "  </tbody>\n",
       "</table>\n",
       "</div>"
      ],
      "text/plain": [
       "          Category  Postal Code        Sales  Quantity  Discount       Profit  \\\n",
       "0        Furniture    118196026  741999.7953      8028    368.89   18451.2728   \n",
       "1  Office Supplies    330772872  719047.0320     22906    947.80  122490.8008   \n",
       "2       Technology    102603754  836154.0330      6939    244.40  145454.9481   \n",
       "\n",
       "  Sale%    Profit%  \n",
       "0   NaN   6.442551  \n",
       "1   NaN  42.769579  \n",
       "2   NaN  50.787870  "
      ]
     },
     "metadata": {},
     "output_type": "display_data"
    }
   ],
   "source": [
    "# 3-Categories = 'Furniture', 'Office Supplies', 'Technology' \n",
    "\n",
    "sale_category = data.groupby('Category').sum().reset_index()\n",
    "\n",
    "sale_category['Sale%'] = (sale_category.Sales / sale_category.sum())* 100\n",
    "\n",
    "sale_category['Profit%'] = (sale_category.Profit / sale_category.Profit.sum()) * 100\n",
    "\n",
    "display(sale_category)"
   ]
  },
  {
   "cell_type": "code",
   "execution_count": 109,
   "metadata": {},
   "outputs": [
    {
     "data": {
      "text/plain": [
       "Text(0.5, 1.0, 'Sales by Categories')"
      ]
     },
     "execution_count": 109,
     "metadata": {},
     "output_type": "execute_result"
    },
    {
     "data": {
      "image/png": "[encoded data removed]",
      "text/plain": [
       "<Figure size 432x288 with 1 Axes>"
      ]
     },
     "metadata": {
      "needs_background": "light"
     },
     "output_type": "display_data"
    }
   ],
   "source": [
    "sns.barplot(x = sale_category.Category,y = sale_category.Sales).set_title('Sales by Categories')"
   ]
  },
  {
   "cell_type": "code",
   "execution_count": 110,
   "metadata": {},
   "outputs": [
    {
     "data": {
      "text/plain": [
       "Text(0.5, 1.0, 'Profit by Categories')"
      ]
     },
     "execution_count": 110,
     "metadata": {},
     "output_type": "execute_result"
    },
    {
     "data": {
      "image/png": "[encoded data removed]",
      "text/plain": [
       "<Figure size 432x288 with 1 Axes>"
      ]
     },
     "metadata": {
      "needs_background": "light"
     },
     "output_type": "display_data"
    }
   ],
   "source": [
    "sns.barplot(x = sale_category.Category,y = sale_category.Profit).set_title('Profit by Categories')"
   ]
  },
  {
   "cell_type": "code",
   "execution_count": 111,
   "metadata": {},
   "outputs": [
    {
     "data": {
      "text/html": [
       "<div>\n",
       "<style scoped>\n",
       "    .dataframe tbody tr th:only-of-type {\n",
       "        vertical-align: middle;\n",
       "    }\n",
       "\n",
       "    .dataframe tbody tr th {\n",
       "        vertical-align: top;\n",
       "    }\n",
       "\n",
       "    .dataframe thead th {\n",
       "        text-align: right;\n",
       "    }\n",
       "</style>\n",
       "<table border=\"1\" class=\"dataframe\">\n",
       "  <thead>\n",
       "    <tr style=\"text-align: right;\">\n",
       "      <th></th>\n",
       "      <th>Sub-Category</th>\n",
       "      <th>Postal Code</th>\n",
       "      <th>Sales</th>\n",
       "      <th>Quantity</th>\n",
       "      <th>Discount</th>\n",
       "      <th>Profit</th>\n",
       "      <th>Sales%</th>\n",
       "      <th>Profit%</th>\n",
       "    </tr>\n",
       "  </thead>\n",
       "  <tbody>\n",
       "    <tr>\n",
       "      <th>0</th>\n",
       "      <td>Phones</td>\n",
       "      <td>47897175</td>\n",
       "      <td>330007.054</td>\n",
       "      <td>3289</td>\n",
       "      <td>137.40</td>\n",
       "      <td>44515.7306</td>\n",
       "      <td>14.365616</td>\n",
       "      <td>15.543364</td>\n",
       "    </tr>\n",
       "    <tr>\n",
       "      <th>1</th>\n",
       "      <td>Chairs</td>\n",
       "      <td>34936229</td>\n",
       "      <td>328449.103</td>\n",
       "      <td>2356</td>\n",
       "      <td>105.00</td>\n",
       "      <td>26590.1663</td>\n",
       "      <td>14.297796</td>\n",
       "      <td>9.284372</td>\n",
       "    </tr>\n",
       "    <tr>\n",
       "      <th>2</th>\n",
       "      <td>Storage</td>\n",
       "      <td>46248720</td>\n",
       "      <td>223843.608</td>\n",
       "      <td>3158</td>\n",
       "      <td>63.20</td>\n",
       "      <td>21278.8264</td>\n",
       "      <td>9.744190</td>\n",
       "      <td>7.429835</td>\n",
       "    </tr>\n",
       "    <tr>\n",
       "      <th>3</th>\n",
       "      <td>Tables</td>\n",
       "      <td>18607828</td>\n",
       "      <td>206965.532</td>\n",
       "      <td>1241</td>\n",
       "      <td>83.35</td>\n",
       "      <td>-17725.4811</td>\n",
       "      <td>9.009466</td>\n",
       "      <td>-6.189129</td>\n",
       "    </tr>\n",
       "    <tr>\n",
       "      <th>4</th>\n",
       "      <td>Binders</td>\n",
       "      <td>83626398</td>\n",
       "      <td>203412.733</td>\n",
       "      <td>5974</td>\n",
       "      <td>567.00</td>\n",
       "      <td>30221.7633</td>\n",
       "      <td>8.854808</td>\n",
       "      <td>10.552401</td>\n",
       "    </tr>\n",
       "  </tbody>\n",
       "</table>\n",
       "</div>"
      ],
      "text/plain": [
       "  Sub-Category  Postal Code       Sales  Quantity  Discount      Profit  \\\n",
       "0       Phones     47897175  330007.054      3289    137.40  44515.7306   \n",
       "1       Chairs     34936229  328449.103      2356    105.00  26590.1663   \n",
       "2      Storage     46248720  223843.608      3158     63.20  21278.8264   \n",
       "3       Tables     18607828  206965.532      1241     83.35 -17725.4811   \n",
       "4      Binders     83626398  203412.733      5974    567.00  30221.7633   \n",
       "\n",
       "      Sales%    Profit%  \n",
       "0  14.365616  15.543364  \n",
       "1  14.297796   9.284372  \n",
       "2   9.744190   7.429835  \n",
       "3   9.009466  -6.189129  \n",
       "4   8.854808  10.552401  "
      ]
     },
     "execution_count": 111,
     "metadata": {},
     "output_type": "execute_result"
    }
   ],
   "source": [
    "# 10 Sub-Cetgory = 'Bookcases', 'Chairs', 'Labels', 'Tables', 'Storage','Furnishings', 'Art', 'Phones', 'Binders', \n",
    "                  #'Appliances', 'Paper','Accessories', 'Envelopes', 'Fasteners', 'Supplies', 'Machines','Copiers'\n",
    "\n",
    "sale_sub = data.groupby('Sub-Category').sum().sort_values(ascending = False, by = 'Sales').reset_index()\n",
    "\n",
    "sale_sub['Sales%'] = (sale_sub.Sales / sale_category.Sales.sum()) * 100\n",
    "sale_sub['Profit%'] = (sale_sub.Profit / sale_category.Profit.sum()) * 100\n",
    "sale_sub.head()"
   ]
  },
  {
   "cell_type": "code",
   "execution_count": 112,
   "metadata": {},
   "outputs": [
    {
     "data": {
      "text/plain": [
       "<AxesSubplot:xlabel='Sub-Category', ylabel='Sales'>"
      ]
     },
     "execution_count": 112,
     "metadata": {},
     "output_type": "execute_result"
    },
    {
     "data": {
      "image/png": "[encoded data removed]",
      "text/plain": [
       "<Figure size 1296x648 with 1 Axes>"
      ]
     },
     "metadata": {
      "needs_background": "light"
     },
     "output_type": "display_data"
    }
   ],
   "source": [
    "plt.figure(figsize = (18,9))\n",
    "sns.barplot(x = 'Sub-Category',y = 'Sales', data = sale_sub)"
   ]
  },
  {
   "cell_type": "code",
   "execution_count": 121,
   "metadata": {},
   "outputs": [
    {
     "data": {
      "text/html": [
       "<div>\n",
       "<style scoped>\n",
       "    .dataframe tbody tr th:only-of-type {\n",
       "        vertical-align: middle;\n",
       "    }\n",
       "\n",
       "    .dataframe tbody tr th {\n",
       "        vertical-align: top;\n",
       "    }\n",
       "\n",
       "    .dataframe thead th {\n",
       "        text-align: right;\n",
       "    }\n",
       "</style>\n",
       "<table border=\"1\" class=\"dataframe\">\n",
       "  <thead>\n",
       "    <tr style=\"text-align: right;\">\n",
       "      <th></th>\n",
       "      <th>Sub-Category</th>\n",
       "      <th>Postal Code</th>\n",
       "      <th>Sales</th>\n",
       "      <th>Quantity</th>\n",
       "      <th>Discount</th>\n",
       "      <th>Profit</th>\n",
       "      <th>Sales%</th>\n",
       "      <th>Profit%</th>\n",
       "    </tr>\n",
       "  </thead>\n",
       "  <tbody>\n",
       "    <tr>\n",
       "      <th>0</th>\n",
       "      <td>Copiers</td>\n",
       "      <td>3873477</td>\n",
       "      <td>149528.0300</td>\n",
       "      <td>234</td>\n",
       "      <td>11.00</td>\n",
       "      <td>55617.8249</td>\n",
       "      <td>6.509140</td>\n",
       "      <td>19.419834</td>\n",
       "    </tr>\n",
       "    <tr>\n",
       "      <th>1</th>\n",
       "      <td>Phones</td>\n",
       "      <td>47897175</td>\n",
       "      <td>330007.0540</td>\n",
       "      <td>3289</td>\n",
       "      <td>137.40</td>\n",
       "      <td>44515.7306</td>\n",
       "      <td>14.365616</td>\n",
       "      <td>15.543364</td>\n",
       "    </tr>\n",
       "    <tr>\n",
       "      <th>2</th>\n",
       "      <td>Accessories</td>\n",
       "      <td>44468434</td>\n",
       "      <td>167380.3180</td>\n",
       "      <td>2976</td>\n",
       "      <td>60.80</td>\n",
       "      <td>41936.6357</td>\n",
       "      <td>7.286273</td>\n",
       "      <td>14.642832</td>\n",
       "    </tr>\n",
       "    <tr>\n",
       "      <th>3</th>\n",
       "      <td>Paper</td>\n",
       "      <td>76299221</td>\n",
       "      <td>78479.2060</td>\n",
       "      <td>5178</td>\n",
       "      <td>102.60</td>\n",
       "      <td>34053.5693</td>\n",
       "      <td>3.416297</td>\n",
       "      <td>11.890336</td>\n",
       "    </tr>\n",
       "    <tr>\n",
       "      <th>4</th>\n",
       "      <td>Binders</td>\n",
       "      <td>83626398</td>\n",
       "      <td>203412.7330</td>\n",
       "      <td>5974</td>\n",
       "      <td>567.00</td>\n",
       "      <td>30221.7633</td>\n",
       "      <td>8.854808</td>\n",
       "      <td>10.552401</td>\n",
       "    </tr>\n",
       "    <tr>\n",
       "      <th>5</th>\n",
       "      <td>Chairs</td>\n",
       "      <td>34936229</td>\n",
       "      <td>328449.1030</td>\n",
       "      <td>2356</td>\n",
       "      <td>105.00</td>\n",
       "      <td>26590.1663</td>\n",
       "      <td>14.297796</td>\n",
       "      <td>9.284372</td>\n",
       "    </tr>\n",
       "    <tr>\n",
       "      <th>6</th>\n",
       "      <td>Storage</td>\n",
       "      <td>46248720</td>\n",
       "      <td>223843.6080</td>\n",
       "      <td>3158</td>\n",
       "      <td>63.20</td>\n",
       "      <td>21278.8264</td>\n",
       "      <td>9.744190</td>\n",
       "      <td>7.429835</td>\n",
       "    </tr>\n",
       "    <tr>\n",
       "      <th>7</th>\n",
       "      <td>Appliances</td>\n",
       "      <td>25250538</td>\n",
       "      <td>107532.1610</td>\n",
       "      <td>1729</td>\n",
       "      <td>77.60</td>\n",
       "      <td>18138.0054</td>\n",
       "      <td>4.681008</td>\n",
       "      <td>6.333168</td>\n",
       "    </tr>\n",
       "    <tr>\n",
       "      <th>8</th>\n",
       "      <td>Furnishings</td>\n",
       "      <td>51880430</td>\n",
       "      <td>91705.1640</td>\n",
       "      <td>3563</td>\n",
       "      <td>132.40</td>\n",
       "      <td>13059.1436</td>\n",
       "      <td>3.992039</td>\n",
       "      <td>4.559804</td>\n",
       "    </tr>\n",
       "    <tr>\n",
       "      <th>9</th>\n",
       "      <td>Envelopes</td>\n",
       "      <td>13325731</td>\n",
       "      <td>16476.4020</td>\n",
       "      <td>906</td>\n",
       "      <td>20.40</td>\n",
       "      <td>6964.1767</td>\n",
       "      <td>0.717238</td>\n",
       "      <td>2.431651</td>\n",
       "    </tr>\n",
       "    <tr>\n",
       "      <th>10</th>\n",
       "      <td>Art</td>\n",
       "      <td>43329658</td>\n",
       "      <td>27118.7920</td>\n",
       "      <td>3000</td>\n",
       "      <td>59.60</td>\n",
       "      <td>6527.7870</td>\n",
       "      <td>1.180515</td>\n",
       "      <td>2.279279</td>\n",
       "    </tr>\n",
       "    <tr>\n",
       "      <th>11</th>\n",
       "      <td>Labels</td>\n",
       "      <td>19552985</td>\n",
       "      <td>12486.3120</td>\n",
       "      <td>1400</td>\n",
       "      <td>25.00</td>\n",
       "      <td>5546.2540</td>\n",
       "      <td>0.543545</td>\n",
       "      <td>1.936561</td>\n",
       "    </tr>\n",
       "    <tr>\n",
       "      <th>12</th>\n",
       "      <td>Machines</td>\n",
       "      <td>6364668</td>\n",
       "      <td>189238.6310</td>\n",
       "      <td>440</td>\n",
       "      <td>35.20</td>\n",
       "      <td>3384.7569</td>\n",
       "      <td>8.237792</td>\n",
       "      <td>1.181841</td>\n",
       "    </tr>\n",
       "    <tr>\n",
       "      <th>13</th>\n",
       "      <td>Fasteners</td>\n",
       "      <td>12506063</td>\n",
       "      <td>3024.2800</td>\n",
       "      <td>914</td>\n",
       "      <td>17.80</td>\n",
       "      <td>949.5182</td>\n",
       "      <td>0.131651</td>\n",
       "      <td>0.331539</td>\n",
       "    </tr>\n",
       "    <tr>\n",
       "      <th>14</th>\n",
       "      <td>Supplies</td>\n",
       "      <td>10633558</td>\n",
       "      <td>46673.5380</td>\n",
       "      <td>647</td>\n",
       "      <td>14.60</td>\n",
       "      <td>-1189.0995</td>\n",
       "      <td>2.031757</td>\n",
       "      <td>-0.415193</td>\n",
       "    </tr>\n",
       "    <tr>\n",
       "      <th>15</th>\n",
       "      <td>Bookcases</td>\n",
       "      <td>12771539</td>\n",
       "      <td>114879.9963</td>\n",
       "      <td>868</td>\n",
       "      <td>48.14</td>\n",
       "      <td>-3472.5560</td>\n",
       "      <td>5.000869</td>\n",
       "      <td>-1.212497</td>\n",
       "    </tr>\n",
       "    <tr>\n",
       "      <th>16</th>\n",
       "      <td>Tables</td>\n",
       "      <td>18607828</td>\n",
       "      <td>206965.5320</td>\n",
       "      <td>1241</td>\n",
       "      <td>83.35</td>\n",
       "      <td>-17725.4811</td>\n",
       "      <td>9.009466</td>\n",
       "      <td>-6.189129</td>\n",
       "    </tr>\n",
       "  </tbody>\n",
       "</table>\n",
       "</div>"
      ],
      "text/plain": [
       "   Sub-Category  Postal Code        Sales  Quantity  Discount      Profit  \\\n",
       "0       Copiers      3873477  149528.0300       234     11.00  55617.8249   \n",
       "1        Phones     47897175  330007.0540      3289    137.40  44515.7306   \n",
       "2   Accessories     44468434  167380.3180      2976     60.80  41936.6357   \n",
       "3         Paper     76299221   78479.2060      5178    102.60  34053.5693   \n",
       "4       Binders     83626398  203412.7330      5974    567.00  30221.7633   \n",
       "5        Chairs     34936229  328449.1030      2356    105.00  26590.1663   \n",
       "6       Storage     46248720  223843.6080      3158     63.20  21278.8264   \n",
       "7    Appliances     25250538  107532.1610      1729     77.60  18138.0054   \n",
       "8   Furnishings     51880430   91705.1640      3563    132.40  13059.1436   \n",
       "9     Envelopes     13325731   16476.4020       906     20.40   6964.1767   \n",
       "10          Art     43329658   27118.7920      3000     59.60   6527.7870   \n",
       "11       Labels     19552985   12486.3120      1400     25.00   5546.2540   \n",
       "12     Machines      6364668  189238.6310       440     35.20   3384.7569   \n",
       "13    Fasteners     12506063    3024.2800       914     17.80    949.5182   \n",
       "14     Supplies     10633558   46673.5380       647     14.60  -1189.0995   \n",
       "15    Bookcases     12771539  114879.9963       868     48.14  -3472.5560   \n",
       "16       Tables     18607828  206965.5320      1241     83.35 -17725.4811   \n",
       "\n",
       "       Sales%    Profit%  \n",
       "0    6.509140  19.419834  \n",
       "1   14.365616  15.543364  \n",
       "2    7.286273  14.642832  \n",
       "3    3.416297  11.890336  \n",
       "4    8.854808  10.552401  \n",
       "5   14.297796   9.284372  \n",
       "6    9.744190   7.429835  \n",
       "7    4.681008   6.333168  \n",
       "8    3.992039   4.559804  \n",
       "9    0.717238   2.431651  \n",
       "10   1.180515   2.279279  \n",
       "11   0.543545   1.936561  \n",
       "12   8.237792   1.181841  \n",
       "13   0.131651   0.331539  \n",
       "14   2.031757  -0.415193  \n",
       "15   5.000869  -1.212497  \n",
       "16   9.009466  -6.189129  "
      ]
     },
     "execution_count": 121,
     "metadata": {},
     "output_type": "execute_result"
    }
   ],
   "source": [
    "# Profit by Sub-categories\n",
    "\n",
    "profit_subcategory = sale_sub.sort_values(ascending = False, by = 'Profit').reset_index(drop = True)\n",
    "profit_subcategory"
   ]
  },
  {
   "cell_type": "code",
   "execution_count": 122,
   "metadata": {},
   "outputs": [
    {
     "data": {
      "text/plain": [
       "<AxesSubplot:xlabel='Sub-Category', ylabel='Profit'>"
      ]
     },
     "execution_count": 122,
     "metadata": {},
     "output_type": "execute_result"
    },
    {
     "data": {
      "image/png": "[encoded data removed]",
      "text/plain": [
       "<Figure size 1296x648 with 1 Axes>"
      ]
     },
     "metadata": {
      "needs_background": "light"
     },
     "output_type": "display_data"
    }
   ],
   "source": [
    "plt.figure(figsize = (18,9))\n",
    "sns.barplot(x  = 'Sub-Category', y = 'Profit', data = profit_subcategory)"
   ]
  },
  {
   "cell_type": "code",
   "execution_count": 123,
   "metadata": {},
   "outputs": [
    {
     "data": {
      "text/html": [
       "<div>\n",
       "<style scoped>\n",
       "    .dataframe tbody tr th:only-of-type {\n",
       "        vertical-align: middle;\n",
       "    }\n",
       "\n",
       "    .dataframe tbody tr th {\n",
       "        vertical-align: top;\n",
       "    }\n",
       "\n",
       "    .dataframe thead th {\n",
       "        text-align: right;\n",
       "    }\n",
       "</style>\n",
       "<table border=\"1\" class=\"dataframe\">\n",
       "  <thead>\n",
       "    <tr style=\"text-align: right;\">\n",
       "      <th></th>\n",
       "      <th>Segment</th>\n",
       "      <th>Postal Code</th>\n",
       "      <th>Sales</th>\n",
       "      <th>Quantity</th>\n",
       "      <th>Discount</th>\n",
       "      <th>Profit</th>\n",
       "      <th>Sales%</th>\n",
       "      <th>Profit%</th>\n",
       "    </tr>\n",
       "  </thead>\n",
       "  <tbody>\n",
       "    <tr>\n",
       "      <th>0</th>\n",
       "      <td>Consumer</td>\n",
       "      <td>288878609</td>\n",
       "      <td>1.161401e+06</td>\n",
       "      <td>19521</td>\n",
       "      <td>820.91</td>\n",
       "      <td>134119.2092</td>\n",
       "      <td>50.557240</td>\n",
       "      <td>46.829820</td>\n",
       "    </tr>\n",
       "    <tr>\n",
       "      <th>1</th>\n",
       "      <td>Corporate</td>\n",
       "      <td>164536330</td>\n",
       "      <td>7.061464e+05</td>\n",
       "      <td>11608</td>\n",
       "      <td>477.85</td>\n",
       "      <td>91979.1340</td>\n",
       "      <td>30.739426</td>\n",
       "      <td>32.115953</td>\n",
       "    </tr>\n",
       "    <tr>\n",
       "      <th>2</th>\n",
       "      <td>Home Office</td>\n",
       "      <td>98157713</td>\n",
       "      <td>4.296531e+05</td>\n",
       "      <td>6744</td>\n",
       "      <td>262.33</td>\n",
       "      <td>60298.6785</td>\n",
       "      <td>18.703334</td>\n",
       "      <td>21.054227</td>\n",
       "    </tr>\n",
       "  </tbody>\n",
       "</table>\n",
       "</div>"
      ],
      "text/plain": [
       "       Segment  Postal Code         Sales  Quantity  Discount       Profit  \\\n",
       "0     Consumer    288878609  1.161401e+06     19521    820.91  134119.2092   \n",
       "1    Corporate    164536330  7.061464e+05     11608    477.85   91979.1340   \n",
       "2  Home Office     98157713  4.296531e+05      6744    262.33   60298.6785   \n",
       "\n",
       "      Sales%    Profit%  \n",
       "0  50.557240  46.829820  \n",
       "1  30.739426  32.115953  \n",
       "2  18.703334  21.054227  "
      ]
     },
     "execution_count": 123,
     "metadata": {},
     "output_type": "execute_result"
    }
   ],
   "source": [
    "sale_segment = data.groupby('Segment').sum().reset_index()\n",
    "sale_segment['Sales%'] = (sale_segment.Sales / sale_category.Sales.sum()) * 100\n",
    "sale_segment['Profit%'] = (sale_segment.Profit / sale_category.Profit.sum()) * 100\n",
    "sale_segment"
   ]
  },
  {
   "cell_type": "code",
   "execution_count": 124,
   "metadata": {},
   "outputs": [
    {
     "data": {
      "text/plain": [
       "Text(0.5, 1.0, 'Sales By Segment')"
      ]
     },
     "execution_count": 124,
     "metadata": {},
     "output_type": "execute_result"
    },
    {
     "data": {
      "image/png": "[encoded data removed]",
      "text/plain": [
       "<Figure size 432x288 with 1 Axes>"
      ]
     },
     "metadata": {
      "needs_background": "light"
     },
     "output_type": "display_data"
    }
   ],
   "source": [
    "sns.barplot(x = sale_segment.Segment,y = sale_segment.Sales).set_title('Sales By Segment')"
   ]
  },
  {
   "cell_type": "code",
   "execution_count": 125,
   "metadata": {},
   "outputs": [
    {
     "data": {
      "text/plain": [
       "Text(0.5, 1.0, 'Profit By Segment')"
      ]
     },
     "execution_count": 125,
     "metadata": {},
     "output_type": "execute_result"
    },
    {
     "data": {
      "image/png": "[encoded data removed]",
      "text/plain": [
       "<Figure size 432x288 with 1 Axes>"
      ]
     },
     "metadata": {
      "needs_background": "light"
     },
     "output_type": "display_data"
    }
   ],
   "source": [
    "sns.barplot(x = sale_segment.Segment,y = sale_segment.Profit).set_title('Profit By Segment')"
   ]
  },
  {
   "cell_type": "code",
   "execution_count": 126,
   "metadata": {},
   "outputs": [
    {
     "data": {
      "text/html": [
       "<div>\n",
       "<style scoped>\n",
       "    .dataframe tbody tr th:only-of-type {\n",
       "        vertical-align: middle;\n",
       "    }\n",
       "\n",
       "    .dataframe tbody tr th {\n",
       "        vertical-align: top;\n",
       "    }\n",
       "\n",
       "    .dataframe thead th {\n",
       "        text-align: right;\n",
       "    }\n",
       "</style>\n",
       "<table border=\"1\" class=\"dataframe\">\n",
       "  <thead>\n",
       "    <tr style=\"text-align: right;\">\n",
       "      <th></th>\n",
       "      <th>Ship Mode</th>\n",
       "      <th>Postal Code</th>\n",
       "      <th>Sales</th>\n",
       "      <th>Quantity</th>\n",
       "      <th>Discount</th>\n",
       "      <th>Profit</th>\n",
       "      <th>Sales%</th>\n",
       "      <th>Profit%</th>\n",
       "    </tr>\n",
       "  </thead>\n",
       "  <tbody>\n",
       "    <tr>\n",
       "      <th>0</th>\n",
       "      <td>First Class</td>\n",
       "      <td>84229511</td>\n",
       "      <td>3.514284e+05</td>\n",
       "      <td>5693</td>\n",
       "      <td>253.17</td>\n",
       "      <td>48969.8399</td>\n",
       "      <td>15.298115</td>\n",
       "      <td>17.098586</td>\n",
       "    </tr>\n",
       "    <tr>\n",
       "      <th>1</th>\n",
       "      <td>Same Day</td>\n",
       "      <td>31242093</td>\n",
       "      <td>1.283631e+05</td>\n",
       "      <td>1960</td>\n",
       "      <td>82.75</td>\n",
       "      <td>15891.7589</td>\n",
       "      <td>5.587806</td>\n",
       "      <td>5.548856</td>\n",
       "    </tr>\n",
       "    <tr>\n",
       "      <th>2</th>\n",
       "      <td>Second Class</td>\n",
       "      <td>108192588</td>\n",
       "      <td>4.591936e+05</td>\n",
       "      <td>7423</td>\n",
       "      <td>270.15</td>\n",
       "      <td>57446.6354</td>\n",
       "      <td>19.989265</td>\n",
       "      <td>20.058391</td>\n",
       "    </tr>\n",
       "    <tr>\n",
       "      <th>3</th>\n",
       "      <td>Standard Class</td>\n",
       "      <td>327908460</td>\n",
       "      <td>1.358216e+06</td>\n",
       "      <td>22797</td>\n",
       "      <td>955.02</td>\n",
       "      <td>164088.7875</td>\n",
       "      <td>59.124814</td>\n",
       "      <td>57.294167</td>\n",
       "    </tr>\n",
       "  </tbody>\n",
       "</table>\n",
       "</div>"
      ],
      "text/plain": [
       "        Ship Mode  Postal Code         Sales  Quantity  Discount       Profit  \\\n",
       "0     First Class     84229511  3.514284e+05      5693    253.17   48969.8399   \n",
       "1        Same Day     31242093  1.283631e+05      1960     82.75   15891.7589   \n",
       "2    Second Class    108192588  4.591936e+05      7423    270.15   57446.6354   \n",
       "3  Standard Class    327908460  1.358216e+06     22797    955.02  164088.7875   \n",
       "\n",
       "      Sales%    Profit%  \n",
       "0  15.298115  17.098586  \n",
       "1   5.587806   5.548856  \n",
       "2  19.989265  20.058391  \n",
       "3  59.124814  57.294167  "
      ]
     },
     "execution_count": 126,
     "metadata": {},
     "output_type": "execute_result"
    }
   ],
   "source": [
    "shipmode = data.groupby('Ship Mode').sum().reset_index()\n",
    "shipmode['Sales%'] = (shipmode.Sales / sale_category.Sales.sum()) * 100\n",
    "shipmode['Profit%'] = (shipmode.Profit / sale_category.Profit.sum()) * 100\n",
    "shipmode"
   ]
  },
  {
   "cell_type": "code",
   "execution_count": 127,
   "metadata": {},
   "outputs": [
    {
     "data": {
      "text/plain": [
       "Text(0.5, 1.0, 'Sales By Ship Mode')"
      ]
     },
     "execution_count": 127,
     "metadata": {},
     "output_type": "execute_result"
    },
    {
     "data": {
      "image/png": "[encoded data removed]",
      "text/plain": [
       "<Figure size 432x288 with 1 Axes>"
      ]
     },
     "metadata": {
      "needs_background": "light"
     },
     "output_type": "display_data"
    }
   ],
   "source": [
    "sns.barplot(x = shipmode['Ship Mode'],y = shipmode.Sales).set_title('Sales By Ship Mode')"
   ]
  },
  {
   "cell_type": "code",
   "execution_count": 128,
   "metadata": {},
   "outputs": [
    {
     "data": {
      "text/plain": [
       "Text(0.5, 1.0, 'Profit By Ship Mode')"
      ]
     },
     "execution_count": 128,
     "metadata": {},
     "output_type": "execute_result"
    },
    {
     "data": {
      "image/png": "[encoded data removed]",
      "text/plain": [
       "<Figure size 432x288 with 1 Axes>"
      ]
     },
     "metadata": {
      "needs_background": "light"
     },
     "output_type": "display_data"
    }
   ],
   "source": [
    "sns.barplot(x = shipmode['Ship Mode'],y = shipmode.Profit).set_title('Profit By Ship Mode')"
   ]
  },
  {
   "cell_type": "code",
   "execution_count": null,
   "metadata": {},
   "outputs": [],
   "source": []
  }
 ],
 "metadata": {
  "kernelspec": {
   "display_name": "Python 3",
   "language": "python",
   "name": "python3"
  },
  "language_info": {
   "codemirror_mode": {
    "name": "ipython",
    "version": 3
   },
   "file_extension": ".py",
   "mimetype": "text/x-python",
   "name": "python",
   "nbconvert_exporter": "python",
   "pygments_lexer": "ipython3",
   "version": "3.8.5"
  }
 },
 "nbformat": 4,
 "nbformat_minor": 4
}
